{
 "cells": [
  {
   "cell_type": "code",
   "execution_count": 1,
   "metadata": {},
   "outputs": [],
   "source": [
    "from cobra import Model, Reaction, Metabolite\n",
    "from riptide import *\n",
    "import pandas as pd\n",
    "from copy import *\n",
    "from cobra.medium import minimal_medium\n",
    "from difflib import *"
   ]
  },
  {
   "cell_type": "code",
   "execution_count": 2,
   "metadata": {},
   "outputs": [],
   "source": [
    "# Protein sequence location https://www.uniprot.org/proteomes/UP000035707\n",
    "model = cobra.io.read_sbml_model(\"gvaginalis.xml\")"
   ]
  },
  {
   "cell_type": "code",
   "execution_count": 3,
   "metadata": {},
   "outputs": [
    {
     "name": "stdout",
     "output_type": "stream",
     "text": [
      "<Solution 31.550 at 0x7fd0ae53a050>\n"
     ]
    }
   ],
   "source": [
    "solution = model.optimize()\n",
    "print(solution)"
   ]
  },
  {
   "cell_type": "code",
   "execution_count": 4,
   "metadata": {},
   "outputs": [],
   "source": [
    "model_metabolite_names = []\n",
    "for metabolite in model.metabolites:\n",
    "    model_metabolite_names.append(metabolite.name)   "
   ]
  },
  {
   "cell_type": "code",
   "execution_count": 5,
   "metadata": {},
   "outputs": [],
   "source": [
    "#synthetic vaginal media \n",
    "vaginal_media_names = [\"sodium\",#NaCl originally\n",
    "                        \"potassium\", #KCl originally\n",
    "                        #K2HPO4 buffering agent not included\n",
    "                        #KH2PO4 buffering agent not included\n",
    "                        \"Dextrose\",\n",
    "                        \"Cysteine\", #cysteine HCl originally\n",
    "                        \"Glycogen\", \"mucin\",\n",
    "                        #Tween 20 not included\n",
    "                        \"Urea\", \"phytomenadione\", \"Hemin\", \"Albumin\",\n",
    "                        \"magnesium\", #originally MgSO4\n",
    "                        \"sulfate\", #originally MgSO4\n",
    "                        \"bicarbonate\", #originally NaHCO3\n",
    "                        \"Biotin\", \"myo-Inositol\",\n",
    "                        \"niacinamide\",\n",
    "                        \"Pyridoxine\", #pyridoxine HCl originally\n",
    "                        \"Thiamine\",#thiamine HCl originally\n",
    "                        \"D-Calcium pantothenate\", \"Folic acid\", \"p-Aminobenzoic acid\",\n",
    "                        \"Choline chloride\", \"Riboflavin\", \"L-ascorbic acid\", \"retinol\", \"calciferol\",\n",
    "                        \"Cyanocobalamin\",\"water\"]\n",
    "metabolite_match = []\n",
    "for metabolite in vaginal_media_names:\n",
    "    metabolite_match.append(get_close_matches(metabolite, model_metabolite_names))\n",
    "\n",
    "metabolite_match = set([item for sublist in metabolite_match for item in sublist])\n",
    "\n",
    "#review matches to remove any incorrectly matched metabolites\n",
    "\n",
    "SVM_metabolite_id = []\n",
    "for metabolite in model.metabolites:\n",
    "    if metabolite.name in metabolite_match:\n",
    "        SVM_metabolite_id.append(metabolite.id)"
   ]
  },
  {
   "cell_type": "code",
   "execution_count": 6,
   "metadata": {},
   "outputs": [],
   "source": [
    "#KSFM --> based on BHI enriched media conditions from Deb\n",
    "KSFM_media_names = [\"alanine\",\"aspartic acid\",\"glutamic acid\",\"histidine\",\"leucine\",\"methionine\",\"proline\",\n",
    "                    \"threonine\",\"arginine\",\"tyrosine\",\"cysteine\",\"glycine\",\"isoleucine\",\"lysine\",\"phenylalanine\",\n",
    "                    \"serine\",\"tryptophan\",\"valine\",\"glucose\",\"riboflavin\",\"calcium pantothentate\",\"folate\",\n",
    "                    \"niacin\",\"pyridoxine\",\"biotin\",\"cobalt\",\"sodium\",\"chloride\",\"potassium\",\"phosphate\",\"calcium\",\n",
    "                    \"magnesium\",\"Iron (Fe3+)\",\"manganese\",\"carbonate\",\"H2O H2O\",\"hypoxanthine\",\"thyminose\",\"cytosine\",\"uracil\"]\n",
    "metabolite_match = []\n",
    "for metabolite in KSFM_media_names:\n",
    "    metabolite_match.append(get_close_matches(metabolite, model_metabolite_names))\n",
    "\n",
    "metabolite_match = set([item for sublist in metabolite_match for item in sublist])\n",
    "\n",
    "#review matches to remove any incorrectly matched metabolites\n",
    "\n",
    "KSFM_metabolite_id = []\n",
    "for metabolite in model.metabolites:\n",
    "    if metabolite.name in metabolite_match:\n",
    "        KSFM_metabolite_id.append(metabolite.id)"
   ]
  },
  {
   "cell_type": "code",
   "execution_count": 7,
   "metadata": {},
   "outputs": [],
   "source": [
    "#NYCIII media --> ATCC medium: 1685 NYC III\n",
    "NYCIII_media_names = [\"sodium\",\"chloride\", \"H2O H2O\", \"glucose\",\n",
    "                        #hepes buffering agent not included\n",
    "                        #fresh yeast extract components:\n",
    "                        #https://pubs.acs.org/doi/full/10.1021/acsfoodscitech.0c00131?ref=recommended&\n",
    "                        \"biotin\", \"thiamine\", \"riboflavin\", \"niacin\",\"pantothenic acid\", \"glutamic acid\",\"glycine\",\n",
    "                        \"alanine\",\"valine\",\"folic acid\", \"potassium\", \"zinc\", \"iron (Fe3+)\", \"sodium\", \"glutathione\",\n",
    "                        \"selenium\", \"glucan\",\n",
    "                        #proteose peptone --> primarily source of amino acids & nitrogen\n",
    "                        \"nitrogen\", \"arginine\", \"asparagine\", \"aspartic acid\", \"cysteine\", \"glutamine\", \"glutamic acid\",\n",
    "                        \"glycine\", \"histidine\", \"isoleucine\", \"leucine\", \"lysine\", \"methionine\", \"phenylalanine\", \"proline\",\n",
    "                        \"serine\", \"threonine\", \"tryptophan\", \"tyrosine\", \"valine\",\n",
    "                        #horse serum composition: https://www.mdpi.com/2218-1989/10/7/298/htm\n",
    "                        \"3-Hydroxybutyrate\", \"2-Hydroxyisobutyrate\", \"Acetoacetate\", \"acetone\",\"citrate\", \"creatine\",\n",
    "                        \"diemthyl sulfone\", \"diemthylglycine\", \"fumarate\", \"glutamine\", \"glycerol\", \"lactate\",\n",
    "                        \"mannose\", \"methanol\", \"myo-inositol\", \"pyruvate\", \"succinate\", \"trimethylamine\", \"formate\",\n",
    "                        \"phenylalanine\", \"arabinose\", \"betaine\", \"creatinine\", \"sarcosine\", \"diemthylamine\", \"acetate\",\n",
    "                        \"2-hydroxybutyrate\", \"ethanol\", \"3-hydroxyisobutyrate\"]\n",
    "metabolite_match = []\n",
    "for metabolite in NYCIII_media_names:\n",
    "    metabolite_match.append(get_close_matches(metabolite, model_metabolite_names))\n",
    "\n",
    "metabolite_match = set([item for sublist in metabolite_match for item in sublist])\n",
    "\n",
    "NYCIII_metabolite_id = []\n",
    "for metabolite in model.metabolites:\n",
    "    if metabolite.name in metabolite_match:\n",
    "        NYCIII_metabolite_id.append(metabolite.id)"
   ]
  },
  {
   "cell_type": "code",
   "execution_count": 8,
   "metadata": {},
   "outputs": [],
   "source": [
    "#create list of existing exchange ids\n",
    "media_ids = list(NYCIII_metabolite_id + KSFM_metabolite_id + SVM_metabolite_id)\n",
    "media_ids = list(set([x[:-2] for x in media_ids]))\n",
    "media_exchange_ids = [\"EX_\"+ x + \"_e\" for x in media_ids]\n",
    "model_exchange_ids = []\n",
    "for exchange in model.exchanges:\n",
    "    if exchange.id in media_exchange_ids:\n",
    "        model_exchange_ids.append(exchange.id)"
   ]
  },
  {
   "cell_type": "code",
   "execution_count": 9,
   "metadata": {},
   "outputs": [],
   "source": [
    "#Find missing exchange reactions \n",
    "exchange_difference = [x for x in media_exchange_ids if x not in model_exchange_ids]\n",
    "missing_exchange_metID = [x[3:] for x in exchange_difference]\n",
    "\n",
    "#add missing extracellular metabolites\n",
    "for cpd in missing_exchange_metID:\n",
    "    metabolite = Metabolite(cpd)\n",
    "    for ids in model.metabolites:\n",
    "        if cpd in ids.id:\n",
    "            metabolite.name = ids.name\n",
    "    metabolite.compartment = \"C_e\"\n",
    "    model.add_metabolites([metabolite])"
   ]
  },
  {
   "cell_type": "code",
   "execution_count": 10,
   "metadata": {},
   "outputs": [],
   "source": [
    "#add missing exchange reactions\n",
    "for metabolite in missing_exchange_metID:\n",
    "    reaction = Reaction('EX_' + metabolite)\n",
    "    reaction.name = model.metabolites.get_by_id(metabolite).name + 'exchange'\n",
    "    reaction.subsystem = 'exchange'\n",
    "    reaction.lower_bound = 0 \n",
    "    reaction.upper_bound = 1000\n",
    "    reaction.add_metabolites({model.metabolites.get_by_id(metabolite):-1.0})\n",
    "    model.add_reactions([reaction])"
   ]
  },
  {
   "cell_type": "code",
   "execution_count": 12,
   "metadata": {},
   "outputs": [],
   "source": [
    "#identify what metabolites have transport reactions\n",
    "#identify which reactions have the stripped media ids >= 2 times in their reaction formula\n",
    "transport_ids = []\n",
    "for ids in media_ids:\n",
    "    for reaction in model.reactions: \n",
    "        for formula in reaction.reaction:\n",
    "            if formula.count(ids) >= 2:\n",
    "                transport_ids.append(reaction.id)\n",
    "#the answer is none --> now let's figure out what intracellular metabolites exist for each of our media metabolites"
   ]
  },
  {
   "cell_type": "code",
   "execution_count": 13,
   "metadata": {},
   "outputs": [],
   "source": [
    "#we are going to create a dictionary of metabolites, where the key is the extracellular metabolite, and the item\n",
    "# is the intracellular metabolite so we can automate our transport reaction construction\n",
    "transport_dict = {}\n",
    "for media in media_ids:\n",
    "    for metabolite in model.metabolites:\n",
    "        if metabolite.id == (media + \"_c\"):\n",
    "            transport_dict[media+\"_e\"] = metabolite.id\n",
    "        elif metabolite.id == (media + \"_p\"):\n",
    "            transport_dict[media+\"_e\"] = metabolite.id"
   ]
  },
  {
   "cell_type": "code",
   "execution_count": 14,
   "metadata": {},
   "outputs": [],
   "source": [
    "for extracellular, intracellular in transport_dict.items():\n",
    "    reaction = Reaction(extracellular[:-2]+\"_transport\")\n",
    "    model.add_reactions([reaction])"
   ]
  },
  {
   "cell_type": "code",
   "execution_count": 15,
   "metadata": {},
   "outputs": [],
   "source": [
    "for extracellular, intracellular in transport_dict.items():\n",
    "    model.reactions.get_by_id(extracellular[:-2]+\"_transport\").name = model.metabolites.get_by_id(extracellular).name + ' transport'\n",
    "    model.reactions.get_by_id(extracellular[:-2]+\"_transport\").subsystem = 'transport'\n",
    "    model.reactions.get_by_id(extracellular[:-2]+\"_transport\").lower_bound = 0 \n",
    "    model.reactions.get_by_id(extracellular[:-2]+\"_transport\").upper_bound = 1000\n",
    "    model.reactions.get_by_id(extracellular[:-2]+\"_transport\").add_metabolites({extracellular:-1.0, intracellular:1.0})"
   ]
  },
  {
   "cell_type": "code",
   "execution_count": 17,
   "metadata": {},
   "outputs": [],
   "source": [
    "#now that we have the list of exchange reaction IDs we can go ahead and take care of our in silico media \n",
    "#and create a function to change our media conditions\n",
    "\n",
    "#Create list of minimal media exchange reactions\n",
    "min_media = minimal_medium(model, 0.5, open_exchanges=True)\n",
    "minmedia_open_exchanges = list(min_media.index)\n",
    "\n",
    "#create list of synthetic vaginal media exchange reactions\n",
    "SVM_open_exchanges = []\n",
    "for metabolite in SVM_metabolite_id:\n",
    "    for exchange in model.exchanges:\n",
    "        if metabolite in exchange.reaction:\n",
    "            SVM_open_exchanges.append(exchange.id)\n",
    "\n",
    "#create list of KSFM exchange reactions\n",
    "KSFM_open_exchanges = []\n",
    "for metabolite in KSFM_metabolite_id:\n",
    "    for exchange in model.exchanges:\n",
    "        if metabolite in exchange.reaction:\n",
    "            KSFM_open_exchanges.append(exchange.id)\n",
    "\n",
    "#create list of NYC III exchange reactions\n",
    "NYCIII_open_exchanges = []\n",
    "for metabolite in NYCIII_metabolite_id:\n",
    "    for exchange in model.exchanges:\n",
    "        if metabolite in exchange.reaction:\n",
    "            NYCIII_open_exchanges.append(exchange.id)"
   ]
  },
  {
   "cell_type": "code",
   "execution_count": 18,
   "metadata": {},
   "outputs": [],
   "source": [
    "def changeMedia(model, media, limEX=[]):\n",
    "    modelOutput = deepcopy(model)\n",
    "\n",
    "    # Set the new media conditions\n",
    "    for ex in modelOutput.exchanges:\n",
    "        ex.upper_bound = 1000\n",
    "        ex.lower_bound = 0\n",
    "        \n",
    "    # Minimal Media\n",
    "    if media == 1:\n",
    "        for exchange in modelOutput.reactions:\n",
    "            if exchange.id in minmedia_open_exchanges:\n",
    "                exchange.lower_bound = -1000\n",
    "        \n",
    "    # Synthetic Vaginal Media\n",
    "    elif media == 2:\n",
    "        for exchange in modelOutput.reactions:\n",
    "            if exchange.id in SVM_open_exchanges:\n",
    "                exchange.lower_bound = -1000\n",
    "        \n",
    "    # Minimal Media + Synthetic Vaginal Media \n",
    "    elif media == 3:\n",
    "        for exchange in modelOutput.reactions:\n",
    "            if exchange.id in minmedia_open_exchanges:\n",
    "                exchange.lower_bound = -1000\n",
    "            elif exchange.id in SVM_open_exchanges:\n",
    "                exchange.lower_bound = -1000\n",
    "                \n",
    "     # NYCIII\n",
    "    elif media == 4:\n",
    "        for exchange in modelOutput.reactions:\n",
    "            if exchange.id in NYCIII_open_exchanges:\n",
    "                exchange.lower_bound = -1000   \n",
    "    # KSFM\n",
    "    elif media == 5:\n",
    "        for exchange in modelOutput.reactions:\n",
    "            if exchange.id in KSFM_open_exchanges:\n",
    "                exchange.lower_bound = -1000\n",
    "   \n",
    "    elif media == 0:\n",
    "        print('all exchange bounds set to [0,1000]')\n",
    "            \n",
    "    else:\n",
    "        print('unrecognized media condition. Please enter 1 for Minimal Media; 2 for Synthetic Vaginal Media; 3 for minimal media; 4 for NYCIII; 5 for KSFM')\n",
    "   \n",
    "    return(modelOutput) "
   ]
  },
  {
   "cell_type": "code",
   "execution_count": 22,
   "metadata": {},
   "outputs": [],
   "source": [
    "practice = changeMedia(model, 5)"
   ]
  }
 ],
 "metadata": {
  "kernelspec": {
   "display_name": "Python 3",
   "language": "python",
   "name": "python3"
  },
  "language_info": {
   "codemirror_mode": {
    "name": "ipython",
    "version": 3
   },
   "file_extension": ".py",
   "mimetype": "text/x-python",
   "name": "python",
   "nbconvert_exporter": "python",
   "pygments_lexer": "ipython3",
   "version": "3.7.6"
  }
 },
 "nbformat": 4,
 "nbformat_minor": 4
}
